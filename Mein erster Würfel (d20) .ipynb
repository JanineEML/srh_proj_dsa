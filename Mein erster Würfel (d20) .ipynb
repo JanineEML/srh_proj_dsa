{
 "cells": [
  {
   "cell_type": "code",
   "execution_count": 5,
   "id": "ddf0bc3d",
   "metadata": {},
   "outputs": [],
   "source": [
    "import random"
   ]
  },
  {
   "cell_type": "code",
   "execution_count": 12,
   "id": "2c4dc1c9",
   "metadata": {},
   "outputs": [
    {
     "name": "stdout",
     "output_type": "stream",
     "text": [
      "Du hast eine 15 gewürfelt\n",
      "Missed !\n"
     ]
    }
   ],
   "source": [
    "s= (random.randint(1, 20))\n",
    "\n",
    "print (\"Du hast eine \" + str(s) + \" gewürfelt\")\n",
    "\n",
    "if s < 10:\n",
    "    print(\"Hit !\")\n",
    "else:\n",
    "    print(\"Missed !\")\n",
    "    \n",
    "if s == 1:\n",
    "    print (\"Critical Hit!\")\n",
    "    \n",
    "if s == 20:\n",
    "    print(\"Ciritical Miss!\")"
   ]
  },
  {
   "cell_type": "code",
   "execution_count": null,
   "id": "e92a0cb0",
   "metadata": {},
   "outputs": [],
   "source": []
  }
 ],
 "metadata": {
  "kernelspec": {
   "display_name": "Python 3 (ipykernel)",
   "language": "python",
   "name": "python3"
  },
  "language_info": {
   "codemirror_mode": {
    "name": "ipython",
    "version": 3
   },
   "file_extension": ".py",
   "mimetype": "text/x-python",
   "name": "python",
   "nbconvert_exporter": "python",
   "pygments_lexer": "ipython3",
   "version": "3.11.5"
  }
 },
 "nbformat": 4,
 "nbformat_minor": 5
}
