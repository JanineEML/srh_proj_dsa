{
 "cells": [
  {
   "cell_type": "markdown",
   "id": "117a9dd6",
   "metadata": {},
   "source": [
    "# Test-Charaktere\n",
    "Für erste Tests erst einmal 2 simple Charaktere um die Grundlagen zu testen."
   ]
  },
  {
   "cell_type": "code",
   "execution_count": 334,
   "id": "7b8cd987",
   "metadata": {},
   "outputs": [],
   "source": [
    "# Modul um Würfel zu simulieren\n",
    "import random"
   ]
  },
  {
   "cell_type": "code",
   "execution_count": 335,
   "id": "9ca4c7d4",
   "metadata": {},
   "outputs": [],
   "source": [
    "def w20():\n",
    "    \"\"\"\n",
    "    Simple Simulation eines W20 Würfels.\n",
    "    Benötigt keinen Input und gibt immer einen Wert zwischen 1 und 20 zurück.\n",
    "    \"\"\"\n",
    "\n",
    "    return random.randint(1, 20)\n",
    "\n",
    "\n",
    "def w6():\n",
    "    \"\"\"\n",
    "    Simple Simulation eines W20 Würfels.\n",
    "    Benötigt keinen Input und gibt immer einen Wert zwischen 1 und 6 zurück.\n",
    "    \"\"\"\n",
    "\n",
    "    return random.randint(1, 6)"
   ]
  },
  {
   "cell_type": "markdown",
   "id": "61ace09f",
   "metadata": {},
   "source": [
    "## Glossar"
   ]
  },
  {
   "cell_type": "code",
   "execution_count": 336,
   "id": "cbe77537",
   "metadata": {},
   "outputs": [],
   "source": [
    "# Ein kurzes Glossar ist nötig da es einige Abkürzungen gibt\n",
    "glossar = {\n",
    "    \"MU\": \"Mut\",\n",
    "    \"KL\": \"Klugheit\",\n",
    "    \"IN\": \"Intuition\",\n",
    "    \"CH\": \"Charisma\",\n",
    "    \"FF\": \"Fingerfertigkeit\",\n",
    "    \"GE\": \"Gewandheit\",\n",
    "    \"KO\": \"Konstitution\",\n",
    "    \"KK\": \"Körperkraft\",\n",
    "\n",
    "    \"LP\": \"Lebenspunkt\",\n",
    "    \"AsP\": \"Astralpunkt\",\n",
    "    \"AUS\": \"Ausdauer\",\n",
    "    \"INIT\": \"Initiative\",\n",
    "    \"AP\": \"Abenteurerpunkte\"\n",
    "}\n",
    "\n",
    "# ... um beide \"Hälften\" dann zu einem zusammenzufügen\n",
    "# Hierbei wird der built-in Operator \"|\" benutzt\n",
    "glossar = glossar | {val: key for key, val in glossar.items()}\n",
    "\n",
    "# Liste der vorhandenen Eigenschaften welche jeder Charakter besitzt\n",
    "# Wir nutzen eine Liste, damit über die Einträgt iteriert werden kann\n",
    "dsa3_eigenschaften = [\"MU\", \"KL\", \"IN\", \"CH\", \"FF\", \"GE\", \"KO\", \"KK\"]\n",
    "\n",
    "# \n",
    "dsa3_fertigkeiten = {\n",
    "    \"Tierkunde\": [[\"KL\", \"KL\", \"IN\"], w6()]\n",
    "}\n",
    "\n",
    "# \n",
    "dsa3_startwerte = {\n",
    "    \"LP\": 12,\n",
    "    \"AsP\": 12,\n",
    "    \"AUS\": 12,\n",
    "    \"INIT\": 12,\n",
    "    \"AP\": 0\n",
    "}"
   ]
  },
  {
   "cell_type": "code",
   "execution_count": 337,
   "id": "45a89697",
   "metadata": {},
   "outputs": [],
   "source": [
    "def generate_eigenschaften(skills):\n",
    "    \"\"\"\n",
    "    Generiert ein dictionary an random Werten (1-20) für die eigenschaften eines\n",
    "    DSA Charakters. Diese dienen erst einmal nur Tetszwecken und können später\n",
    "    noch verfeinert werden.\n",
    "    \"\"\"\n",
    "\n",
    "    eigenschaften = {}\n",
    "\n",
    "    for skill in skills:\n",
    "        eigenschaften[skill] = w20()\n",
    "\n",
    "    return eigenschaften\n",
    "\n",
    "\n",
    "def generate_fertigkeiten(skills):\n",
    "    \"\"\"\n",
    "    \n",
    "    \"\"\"\n",
    "\n",
    "    pass\n",
    "\n",
    "\n",
    "\n",
    "def generate_charakterbogen(name, alter, geschlecht, rasse, heldentyp):\n",
    "    \"\"\"\n",
    "\n",
    "    \"\"\"\n",
    "\n",
    "    label = [\"name\", \"alter\", \"geschlecht\", \"rasse\", \"heldentyp\"]\n",
    "    infos = [name, alter, geschlecht, rasse, heldentyp]\n",
    "\n",
    "    charakterbogen = dict(zip(label, infos)) | dsa3_startwerte\n",
    "    \n",
    "    charakterbogen[\"eigenschaften\"] = generate_eigenschaften(dsa3_eigenschaften)\n",
    "    charakterbogen[\"fertigkeiten\"] = dsa3_fertigkeiten\n",
    "\n",
    "    return charakterbogen\n"
   ]
  },
  {
   "cell_type": "code",
   "execution_count": 338,
   "id": "8ecdfe3a",
   "metadata": {},
   "outputs": [],
   "source": [
    "data_parnileo_parnilei = generate_charakterbogen(\"Parnileo Parnilei\", 461, \"männlich\", \"Mensch\", \"Magier\")\n",
    "data_edgar_allan_parn = generate_charakterbogen(\"Edgar Allan Parn\", 216, \"männlich\", \"Mensch\", \"Magier\")"
   ]
  },
  {
   "cell_type": "markdown",
   "id": "6c1f890b",
   "metadata": {},
   "source": []
  },
  {
   "cell_type": "code",
   "execution_count": 339,
   "id": "e0f16b22",
   "metadata": {},
   "outputs": [],
   "source": [
    "class Einheit():\n",
    "    def __init__(self, file):\n",
    "        if file is not None:\n",
    "            for key, value in file.items():\n",
    "                setattr(self, key, value)\n",
    "\n",
    "\n",
    "    def eigenschaftsprobe(self, probe, bias=0):\n",
    "        wurf = w20()\n",
    "\n",
    "        if wurf > self.eigenschaften[glossar[probe]] + bias:\n",
    "            print(f\"Eigenschaftsprobe misslungen! Der nötige {probe}-Wert von {self.eigenschaften[glossar[probe]]} wurde durch {wurf} nicht unterworfen!\")\n",
    "        \n",
    "        else:\n",
    "            print(f\"Eigenschaftsprobe geschafft! Der nötige {probe}-Wert von {self.eigenschaften[glossar[probe]]} wurde durch {wurf} unterworfen!\")\n",
    "    \n",
    "\n",
    "    def fertigkeitsprobe(self, probe, bias=0):\n",
    "        \"\"\"\n",
    "        \n",
    "        \"\"\"\n",
    "\n",
    "        ausgleich = self.fertigkeiten[probe][1]\n",
    "        print(f\"Starte Fertigkeitsprobe {probe} auf {self.fertigkeiten[probe][0]}, Ausgleich: {ausgleich}\")\n",
    "\n",
    "        for i, eigenschaft in enumerate(self.fertigkeiten[probe][0]):\n",
    "            wurf = w20()\n",
    "            print(f\"\\n{i+1}. Teilprobe auf {glossar[eigenschaft]}: Mit einem W20 wurde {wurf} geworfen!\")\n",
    "\n",
    "            ziel = self.eigenschaften[eigenschaft] + bias\n",
    "            wurfdifferenz = ziel - wurf\n",
    "            print(f\"Ziel: {ziel}\\nDifferenz: {wurfdifferenz}\")\n",
    "\n",
    "            if wurfdifferenz < 0:\n",
    "                ausgleich += wurfdifferenz\n",
    "                print(f\"neuer Ausgleich: {ausgleich}\")\n",
    "            \n",
    "                if ausgleich < 0:\n",
    "                    print(f\"\\nFertigkeitsprobe misslungen! {glossar[eigenschaft]} wurde mit {wurf} nicht unterworfen (Ziel: {self.eigenschaften[eigenschaft]} mit Bias {bias}), Ausgleich wurde aufgebraucht ({ausgleich}).\")\n",
    "\n",
    "                    return None\n",
    "                \n",
    "                else:\n",
    "                    print(f\"Teilprobe fehlgeschlagen! {glossar[eigenschaft]} wurde mit {wurf} nicht unterworfen (Ziel: {self.eigenschaften[eigenschaft]} mit Bias {bias}), verbleibender Ausgleich: {ausgleich}.\")\n",
    "            \n",
    "            else:\n",
    "                print(f\"Teilprobe geglückt! {glossar[eigenschaft]} wurde mit {wurf} unterworfen (Ziel: {self.eigenschaften[eigenschaft]} mit Bias {bias}), verbleibender Ausgleich: ({ausgleich}).\")\n",
    "        \n",
    "        print(f\"\\nFertigkeitsprobe geglückt! Übriger Ausgleich bei {ausgleich}.\")"
   ]
  },
  {
   "cell_type": "code",
   "execution_count": 340,
   "id": "9f624ad6",
   "metadata": {},
   "outputs": [
    {
     "name": "stdout",
     "output_type": "stream",
     "text": [
      "[['KL', 'KL', 'IN'], 6]\n"
     ]
    }
   ],
   "source": [
    "parnileo_parnilei = Einheit(data_parnileo_parnilei)\n",
    "edgar_allan_parn = Einheit(data_edgar_allan_parn)\n",
    "\n",
    "print(parnileo_parnilei.fertigkeiten[\"Tierkunde\"])"
   ]
  },
  {
   "cell_type": "code",
   "execution_count": 341,
   "id": "f99b605f",
   "metadata": {},
   "outputs": [
    {
     "name": "stdout",
     "output_type": "stream",
     "text": [
      "Hallo, ich bin Parnileo Parnilei und ich habe in Mut einen Wert von 18.\n",
      "Eigenschaftsprobe geschafft! Der nötige Mut-Wert von 18 wurde durch 7 unterworfen!\n"
     ]
    }
   ],
   "source": [
    "print(f\"Hallo, ich bin {parnileo_parnilei.name} und ich habe in Mut einen Wert von {parnileo_parnilei.eigenschaften['MU']}.\")\n",
    "\n",
    "parnileo_parnilei.eigenschaftsprobe(\"Mut\")"
   ]
  },
  {
   "cell_type": "code",
   "execution_count": 342,
   "id": "9e26b86c",
   "metadata": {},
   "outputs": [
    {
     "name": "stdout",
     "output_type": "stream",
     "text": [
      "Starte Fertigkeitsprobe Tierkunde auf ['KL', 'KL', 'IN'], Ausgleich: 6\n",
      "\n",
      "1. Teilprobe auf Klugheit: Mit einem W20 wurde 12 geworfen!\n",
      "Ziel: 17\n",
      "Differenz: 5\n",
      "Teilprobe geglückt! Klugheit wurde mit 12 unterworfen (Ziel: 17 mit Bias 0), verbleibender Ausgleich: (6).\n",
      "\n",
      "2. Teilprobe auf Klugheit: Mit einem W20 wurde 8 geworfen!\n",
      "Ziel: 17\n",
      "Differenz: 9\n",
      "Teilprobe geglückt! Klugheit wurde mit 8 unterworfen (Ziel: 17 mit Bias 0), verbleibender Ausgleich: (6).\n",
      "\n",
      "3. Teilprobe auf Intuition: Mit einem W20 wurde 1 geworfen!\n",
      "Ziel: 2\n",
      "Differenz: 1\n",
      "Teilprobe geglückt! Intuition wurde mit 1 unterworfen (Ziel: 2 mit Bias 0), verbleibender Ausgleich: (6).\n",
      "\n",
      "Fertigkeitsprobe geglückt! Übriger Ausgleich bei 6.\n"
     ]
    }
   ],
   "source": [
    "parnileo_parnilei.fertigkeitsprobe(\"Tierkunde\")"
   ]
  }
 ],
 "metadata": {
  "kernelspec": {
   "display_name": "Python 3",
   "language": "python",
   "name": "python3"
  },
  "language_info": {
   "codemirror_mode": {
    "name": "ipython",
    "version": 3
   },
   "file_extension": ".py",
   "mimetype": "text/x-python",
   "name": "python",
   "nbconvert_exporter": "python",
   "pygments_lexer": "ipython3",
   "version": "3.11.9"
  }
 },
 "nbformat": 4,
 "nbformat_minor": 5
}
