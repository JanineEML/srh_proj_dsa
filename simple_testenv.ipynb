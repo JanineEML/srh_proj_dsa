{
 "cells": [
  {
   "cell_type": "markdown",
   "id": "117a9dd6",
   "metadata": {},
   "source": [
    "# Test-Charaktere\n",
    "Für erste Tests erst einmal 2 simple Charaktere um die Grundlagen zu testen.\\\\\n",
    "Später wird das per File einlesbar sein, in welchem Format muss man dann jedoch schauen."
   ]
  },
  {
   "cell_type": "code",
   "execution_count": 122,
   "id": "7b8cd987",
   "metadata": {},
   "outputs": [],
   "source": [
    "import random"
   ]
  },
  {
   "cell_type": "markdown",
   "id": "61ace09f",
   "metadata": {},
   "source": [
    "## Glossar"
   ]
  },
  {
   "cell_type": "code",
   "execution_count": 123,
   "id": "cbe77537",
   "metadata": {},
   "outputs": [],
   "source": [
    "glossar_one = {\n",
    "    \"MU\": \"Mut\",\n",
    "    \"KL\": \"Klugheit\",\n",
    "    \"IN\": \"Intuition\",\n",
    "    \"CH\": \"Charisma\",\n",
    "    \"FF\": \"Fingerfertigkeit\",\n",
    "    \"GE\": \"Gewandheit\",\n",
    "    \"KO\": \"Konstitution\",\n",
    "    \"KK\": \"Körperkraft\",\n",
    "\n",
    "    \"LP\": \"Lebenspunkt\",\n",
    "    \"AsP\": \"Astralpunkt\",\n",
    "    \"AUS\": \"Ausdauer\",\n",
    "    \"INIT\": \"Initiative\",\n",
    "    \"AP\": \"Abenteurerpunkte\"\n",
    "}\n",
    "\n",
    "glossar_two = {val: key for key, val in glossar_one.items()}\n",
    "\n",
    "glossar = glossar_one | glossar_two"
   ]
  },
  {
   "cell_type": "code",
   "execution_count": 124,
   "id": "45a89697",
   "metadata": {},
   "outputs": [],
   "source": [
    "def w20():\n",
    "    return random.randint(1, 20)\n",
    "\n",
    "\n",
    "def w6():\n",
    "    return random.randint(1, 6)\n",
    "\n",
    "\n",
    "dsa3_eigenschaften = [\"MU\", \"KL\", \"IN\", \"CH\", \"FF\", \"GE\", \"KO\", \"KK\"]\n",
    "dsa3_startwerte = {\n",
    "    \"LP\": 12,\n",
    "    \"AsP\": 12,\n",
    "    \"AUS\": 12,\n",
    "    \"INIT\": 12,\n",
    "    \"AP\": 0\n",
    "    }\n",
    "\n",
    "\n",
    "def generate_eigenschaften(skills):\n",
    "    \"\"\"\n",
    "    Generiert ein dictionary an random Werten (1-20) für die eigenschaften eines\n",
    "    DSA Charakters. Diese dienen erst einmal nur Tetszwecken und können später\n",
    "    noch verfeinert werden.\n",
    "    \"\"\"\n",
    "\n",
    "    eigenschaften = {}\n",
    "\n",
    "    for skill in skills:\n",
    "        eigenschaften[skill] = random.randint(1, 20)\n",
    "\n",
    "    return eigenschaften\n",
    "\n",
    "\n",
    "\n",
    "def generate_steckbrief(name, alter, geschlecht, rasse, heldentyp):\n",
    "    \"\"\"\n",
    "\n",
    "    \"\"\"\n",
    "\n",
    "    label = [\"name\", \"alter\", \"geschlecht\", \"rasse\", \"heldentyp\"]\n",
    "    infos = [name, alter, geschlecht, rasse, heldentyp]\n",
    "\n",
    "    steckbrief = dict(zip(label, infos)) | dsa3_startwerte\n",
    "    \n",
    "    steckbrief[\"eigenschaften\"] = generate_eigenschaften(dsa3_eigenschaften)\n",
    "\n",
    "    return steckbrief\n"
   ]
  },
  {
   "cell_type": "code",
   "execution_count": 125,
   "id": "8ecdfe3a",
   "metadata": {},
   "outputs": [],
   "source": [
    "data_parnileo_parnilei = generate_steckbrief(\"Parnileo Parnilei\", 461, \"männlich\", \"Mensch\", \"Magier\")\n",
    "data_edgar_allan_parn = generate_steckbrief(\"Edgar Allan Parn\", 216, \"männlich\", \"Mensch\", \"Magier\")"
   ]
  },
  {
   "cell_type": "markdown",
   "id": "6c1f890b",
   "metadata": {},
   "source": []
  },
  {
   "cell_type": "code",
   "execution_count": 130,
   "id": "e0f16b22",
   "metadata": {},
   "outputs": [],
   "source": [
    "class Entity():\n",
    "    def __init__(self, file):\n",
    "        if file is not None:\n",
    "            for key, value in file.items():\n",
    "                setattr(self, key, value)\n",
    "\n",
    "    def eigenschaftsprobe(self, probe, bias=0):\n",
    "        wurf = w20()\n",
    "\n",
    "        if wurf > self.eigenschaften[glossar[probe]] + bias:\n",
    "            print(f\"Eigenschaftsprobe misslungen! Der nötige {probe}-Wert von {self.eigenschaften[glossar[probe]]} wurde durch {wurf} nicht unterworfen!\")\n",
    "        \n",
    "        else:\n",
    "            print(f\"Eigenschaftsprobe geschafft! Der nötige {probe}-Wert von {self.eigenschaften[glossar[probe]]} wurde durch {wurf} unterworfen!\")"
   ]
  },
  {
   "cell_type": "code",
   "execution_count": 135,
   "id": "9f624ad6",
   "metadata": {},
   "outputs": [
    {
     "data": {
      "text/plain": [
       "'KL'"
      ]
     },
     "execution_count": 135,
     "metadata": {},
     "output_type": "execute_result"
    }
   ],
   "source": [
    "parnileo_parnilei = Entity(data_parnileo_parnilei)\n",
    "edgar_allan_parn = Entity(data_edgar_allan_parn)\n",
    "\n",
    "glossar[\"Klugheit\"]"
   ]
  },
  {
   "cell_type": "code",
   "execution_count": 137,
   "id": "f99b605f",
   "metadata": {},
   "outputs": [
    {
     "name": "stdout",
     "output_type": "stream",
     "text": [
      "Hallo, ich bin Parnileo Parnilei und ich habe in Mut einen Wert von 16.\n",
      "Eigenschaftsprobe geschafft! Der nötige Mut-Wert von 16 wurde durch 10 unterworfen!\n"
     ]
    }
   ],
   "source": [
    "print(f\"Hallo, ich bin {parnileo_parnilei.name} und ich habe in Mut einen Wert von {parnileo_parnilei.eigenschaften['MU']}.\")\n",
    "\n",
    "parnileo_parnilei.eigenschaftsprobe(\"Mut\")"
   ]
  }
 ],
 "metadata": {
  "kernelspec": {
   "display_name": "Python 3",
   "language": "python",
   "name": "python3"
  },
  "language_info": {
   "codemirror_mode": {
    "name": "ipython",
    "version": 3
   },
   "file_extension": ".py",
   "mimetype": "text/x-python",
   "name": "python",
   "nbconvert_exporter": "python",
   "pygments_lexer": "ipython3",
   "version": "3.11.9"
  }
 },
 "nbformat": 4,
 "nbformat_minor": 5
}
