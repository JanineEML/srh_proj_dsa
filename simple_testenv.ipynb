{
 "cells": [
  {
   "cell_type": "markdown",
   "id": "117a9dd6",
   "metadata": {},
   "source": [
    "# Test Environment\n",
    "data\\\n",
    "    talent.xlsx\\\n",
    "    waffen.xlsx\\\n",
    "    zauber.xlsx\n",
    "\n",
    "einheit\\\n",
    "    held1.xlsx\\\n",
    "    held1_inventar.xlsx"
   ]
  },
  {
   "cell_type": "code",
   "execution_count": 91,
   "id": "7b8cd987",
   "metadata": {},
   "outputs": [],
   "source": [
    "# Modul um Würfel zu simulieren\n",
    "import random\n",
    "random.seed(1321345589)\n",
    "\n",
    "# Modul zum vereinfachten Auslesen und Bearbeiten von Datentabellen\n",
    "import pandas as pd\n",
    "\n",
    "# Dies und Das\n",
    "import regex as re"
   ]
  },
  {
   "cell_type": "code",
   "execution_count": 92,
   "id": "9ca4c7d4",
   "metadata": {},
   "outputs": [],
   "source": [
    "def w20():\n",
    "    \"\"\"\n",
    "    Simple Simulation eines W20 Würfels.\n",
    "    Benötigt keinen Input und gibt immer einen Wert zwischen 1 und 20 zurück.\n",
    "    \"\"\"\n",
    "\n",
    "    return random.randint(1, 20)\n",
    "\n",
    "\n",
    "def w6(anzahl: int = 1):\n",
    "    \"\"\"\n",
    "    Simple Simulation eines W6 Würfels.\n",
    "    Benötigt keinen Input und gibt immer einen Wert zwischen 1 und 6 zurück.\n",
    "    \"\"\"\n",
    "\n",
    "    assert anzahl > 0\n",
    "\n",
    "    wuerfe = [random.randint(1, 6) for _ in range(anzahl)]\n",
    "\n",
    "    return sum(wuerfe)\n",
    "\n",
    "\n",
    "def datei_zu_dataframe(path, index_column=0):\n",
    "    \"\"\"\n",
    "    \n",
    "    \"\"\"\n",
    "\n",
    "    dataframe = pd.read_excel(path, index_col=index_column)\n",
    "    dataframe.dropna(inplace=True)\n",
    "\n",
    "    if \"Eigenschaftsprobe\" in dataframe.columns:\n",
    "        dataframe[\"Eigenschaftsprobe\"] = dataframe.Eigenschaftsprobe.apply(lambda x: x.split(\"/\"))\n",
    "\n",
    "    return dataframe\n",
    "\n",
    "\n",
    "def datei_zu_dict(path):\n",
    "    \"\"\"\n",
    "    Liest excel Tabelle mit Informationen zum Helden ein, damit diese als\n",
    "    Klassen-Attribute übergeben werden können.\n",
    "    \n",
    "    : name : Dateiname bzw. Name des Helden, Pfad in /einheit/name\n",
    "    : return : dict\n",
    "    \"\"\"\n",
    "\n",
    "    frame = datei_zu_dataframe(path)\n",
    "    framedict = frame.T.to_dict(orient=\"records\")[0]\n",
    "\n",
    "    return framedict\n",
    "\n",
    "\n",
    "def zeile_zu_dict(frame, zeile: str):\n",
    "    \"\"\"\n",
    "    \n",
    "    \"\"\"\n",
    "\n",
    "    framedict = frame.T[zeile].to_dict()\n",
    "    framedict[\"Waffe\"] = zeile\n",
    "\n",
    "    return framedict"
   ]
  },
  {
   "cell_type": "code",
   "execution_count": 93,
   "id": "8f7364dc",
   "metadata": {},
   "outputs": [],
   "source": [
    "# Einlesen der Datentabelle zu den Fertigkeiten\n",
    "dsa5_talente = datei_zu_dataframe(\"data/dsa5_talente.xlsx\", index_column=1)\n",
    "\n",
    "dsa5_waffen = datei_zu_dataframe(\"data/waffen.xlsx\")\n",
    "dsa5_ruestungen = datei_zu_dataframe(\"data/ruestungen.xlsx\")\n",
    "dsa5_zauber = datei_zu_dataframe(\"data/zauber.xlsx\")"
   ]
  },
  {
   "cell_type": "markdown",
   "id": "61ace09f",
   "metadata": {},
   "source": [
    "## Glossar"
   ]
  },
  {
   "cell_type": "code",
   "execution_count": 94,
   "id": "cbe77537",
   "metadata": {},
   "outputs": [],
   "source": [
    "# Kurzes Glossar durch die ganzen Abkürzungen (besser für die Textausgabe)\n",
    "# Benutzt ein dictionary, also glossar[\"MU\"] ergibt als Ausgabe \"Mut\"\n",
    "glossar = datei_zu_dict(\"data/glossar.xlsx\")\n",
    "\n",
    "# Das Glossar wird verdoppelt, wobei die Dopplung Keys und Values miteinander vertauscht.\n",
    "# Also das dict glossar ist nach dem \"glossar[key] = value\"-Prinzip aufgebaut, dies wird\n",
    "# mit der dict comprehension (also {val: key for ...}) gedreht. Das daraus entstehende\n",
    "# neue dict wird dann dem \"alten\" Glossar beigefügr (der Operator | verbindet zwi dicts.\n",
    "# Damit ist jetzt auch glossar[\"Mut\"] = \"MU\" gewährleistet.\n",
    "glossar = glossar | {val: key for key, val in glossar.items()}"
   ]
  },
  {
   "cell_type": "code",
   "execution_count": 95,
   "id": "8ecdfe3a",
   "metadata": {},
   "outputs": [
    {
     "data": {
      "text/plain": [
       "{'name': 'Margot',\n",
       " 'alter': 31,\n",
       " 'rasse': 'Mensch',\n",
       " 'heldentyp': 'Soldatin',\n",
       " 'MU': 8,\n",
       " 'KL': 8,\n",
       " 'IN': 8,\n",
       " 'CH': 8,\n",
       " 'FF': 8,\n",
       " 'GE': 8,\n",
       " 'KO': 8,\n",
       " 'KK': 8,\n",
       " 'LeP': 21,\n",
       " 'AsP': 4,\n",
       " 'Int': 12,\n",
       " 'AP': 0}"
      ]
     },
     "execution_count": 95,
     "metadata": {},
     "output_type": "execute_result"
    }
   ],
   "source": [
    "data_margot = datei_zu_dict(\"data/held_margot.xlsx\")\n",
    "data_margot"
   ]
  },
  {
   "cell_type": "markdown",
   "id": "6c1f890b",
   "metadata": {},
   "source": []
  },
  {
   "cell_type": "code",
   "execution_count": null,
   "id": "e0f16b22",
   "metadata": {},
   "outputs": [],
   "source": [
    "class Einheit():\n",
    "    def __init__(self, filepath):\n",
    "        if filepath is not None:\n",
    "            file = datei_zu_dict(filepath)\n",
    "\n",
    "            for key, value in file.items():\n",
    "                setattr(self, key, value)\n",
    "        \n",
    "        self.waffe_ausruesten(\"Breitschwert\")\n",
    "        self.ruestung = None\n",
    "        self.zauber = None\n",
    "    \n",
    "\n",
    "    def waffe_ausruesten(self, waffe):\n",
    "        \"\"\"\n",
    "        \n",
    "        \"\"\"\n",
    "\n",
    "        framedict = zeile_zu_dict(dsa5_waffen, waffe)\n",
    "\n",
    "        self.haupthand = framedict\n",
    "\n",
    "\n",
    "    def ruestung_tragen():\n",
    "        pass\n",
    "     \n",
    "    \n",
    "    def attacke(self, other=None):\n",
    "        \"\"\"\n",
    "        \n",
    "        \"\"\"\n",
    "\n",
    "        versuch = w20()\n",
    "        probe = getattr(self, self.haupthand[\"L+S\"])\n",
    "        treffer = versuch <= probe\n",
    "\n",
    "\n",
    "    def parade(self, other):\n",
    "        pass\n",
    "\n",
    "\n",
    "    def eigenschaftsprobe(self, probe: str, bias: int=0):\n",
    "        wurf = w20()\n",
    "\n",
    "        if wurf > getattr(self, glossar[probe]) + bias:\n",
    "            print(f\"Eigenschaftsprobe misslungen! Der nötige {probe}-Wert von {getattr(self, glossar[probe])} wurde durch {wurf} nicht unterworfen!\")\n",
    "        \n",
    "        else:\n",
    "            print(f\"Eigenschaftsprobe geschafft! Der nötige {probe}-Wert von {getattr(self, glossar[probe])} wurde durch {wurf} unterworfen!\")\n",
    "    \n",
    "\n",
    "    def fertigkeitsprobe(self, probe: str, bias: int=0):\n",
    "        \"\"\"\n",
    "        \n",
    "        \"\"\"\n",
    "\n",
    "        ausgleich = random.randint(3, 7)\n",
    "        print(f'Starte Fertigkeitsprobe {probe} auf {dsa5_talente[\"Eigenschaftsprobe\"][probe]}, Ausgleich: {ausgleich}')\n",
    "\n",
    "        for i, eigenschaft in enumerate(dsa5_talente[\"Eigenschaftsprobe\"][probe]):\n",
    "            wurf = w20()\n",
    "\n",
    "            ziel = getattr(self, eigenschaft) + bias\n",
    "            wurfdifferenz = ziel - wurf\n",
    "\n",
    "            if wurfdifferenz < 0:\n",
    "                ausgleich += wurfdifferenz\n",
    "            \n",
    "                if ausgleich < 0:\n",
    "                    print(f'\\nFertigkeitsprobe misslungen!')\n",
    "\n",
    "                    return\n",
    "        \n",
    "        print(f'\\nFertigkeitsprobe geglückt! Übriger Ausgleich bei {ausgleich}.')"
   ]
  },
  {
   "cell_type": "code",
   "execution_count": 102,
   "id": "9f624ad6",
   "metadata": {},
   "outputs": [
    {
     "name": "stdout",
     "output_type": "stream",
     "text": [
      "Starte Fertigkeitsprobe Tierkunde auf ['MU', 'MU', 'CH'], Ausgleich: 6\n",
      "\n",
      "Fertigkeitsprobe misslungen!\n"
     ]
    }
   ],
   "source": [
    "margot = Einheit(\"data/held_margot.xlsx\")\n",
    "margot.fertigkeitsprobe(\"Tierkunde\")"
   ]
  }
 ],
 "metadata": {
  "kernelspec": {
   "display_name": "Python 3",
   "language": "python",
   "name": "python3"
  },
  "language_info": {
   "codemirror_mode": {
    "name": "ipython",
    "version": 3
   },
   "file_extension": ".py",
   "mimetype": "text/x-python",
   "name": "python",
   "nbconvert_exporter": "python",
   "pygments_lexer": "ipython3",
   "version": "3.11.9"
  }
 },
 "nbformat": 4,
 "nbformat_minor": 5
}
